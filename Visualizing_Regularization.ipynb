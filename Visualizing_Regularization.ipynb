{
  "nbformat": 4,
  "nbformat_minor": 0,
  "metadata": {
    "colab": {
      "provenance": [],
      "authorship_tag": "ABX9TyM68Bv99IgubSBdoqDODls5",
      "include_colab_link": true
    },
    "kernelspec": {
      "name": "python3",
      "display_name": "Python 3"
    },
    "language_info": {
      "name": "python"
    }
  },
  "cells": [
    {
      "cell_type": "markdown",
      "metadata": {
        "id": "view-in-github",
        "colab_type": "text"
      },
      "source": [
        "<a href=\"https://colab.research.google.com/github/bharathvariar/FoDS/blob/main/Visualizing_Regularization.ipynb\" target=\"_parent\"><img src=\"https://colab.research.google.com/assets/colab-badge.svg\" alt=\"Open In Colab\"/></a>"
      ]
    },
    {
      "cell_type": "code",
      "execution_count": 11,
      "metadata": {
        "id": "Ahyx8UY674Ok"
      },
      "outputs": [],
      "source": [
        "import numpy as np\n",
        "import matplotlib.pyplot as plt"
      ]
    },
    {
      "cell_type": "code",
      "source": [
        "# Select length of axes and the space between tick labels\n",
        "xmin, xmax, ymin, ymax = -5, 5, -5, 5\n",
        "ticks_frequency = 1\n",
        "\n",
        "fig, ax = plt.subplots(figsize=(10, 10))\n",
        "\n",
        "# Set identical scales for both axes\n",
        "ax.set(xlim=(xmin-1, xmax+1), ylim=(ymin-1, ymax+1), aspect='equal')\n",
        "\n",
        "# Set bottom and left spines as x and y axes of coordinate system\n",
        "ax.spines['bottom'].set_position('zero')\n",
        "ax.spines['left'].set_position('zero')\n",
        "\n",
        "# Remove top and right spines\n",
        "ax.spines['top'].set_visible(False)\n",
        "ax.spines['right'].set_visible(False)\n",
        "\n",
        "# Create 'x' and 'y' labels placed at the end of the axes\n",
        "ax.set_xlabel('x', size=14, labelpad=-24, x=1.03)\n",
        "ax.set_ylabel('y', size=14, labelpad=-21, y=1.02, rotation=0)\n",
        "\n",
        "# Create custom major ticks to determine position of tick labels\n",
        "x_ticks = np.arange(xmin, xmax+1, ticks_frequency)\n",
        "y_ticks = np.arange(ymin, ymax+1, ticks_frequency)\n",
        "ax.set_xticks(x_ticks[x_ticks != 0])\n",
        "ax.set_yticks(y_ticks[y_ticks != 0])\n",
        "\n",
        "# Create minor ticks placed at each integer to enable drawing of minor grid\n",
        "# lines: note that this has no effect in this example with ticks_frequency=1\n",
        "ax.set_xticks(np.arange(xmin, xmax+1), minor=True)\n",
        "ax.set_yticks(np.arange(ymin, ymax+1), minor=True)\n",
        "\n",
        "# Draw major and minor grid lines\n",
        "ax.grid(which='both', color='grey', linewidth=1, linestyle='-', alpha=0.2)\n",
        "\n",
        "# Draw arrows\n",
        "arrow_fmt = dict(markersize=4, color='black', clip_on=False)\n",
        "ax.plot((1), (0), marker='>', transform=ax.get_yaxis_transform(), **arrow_fmt)\n",
        "ax.plot((0), (1), marker='^', transform=ax.get_xaxis_transform(), **arrow_fmt)\n",
        "\n",
        "#eta\n",
        "eta = 1.4\n",
        "\n",
        "#for q = 1\n",
        "x1 = [0, eta, 0, -eta, 0]\n",
        "y1 = [eta, 0, -eta, 0, eta]\n",
        "ax.scatter(x1, y1, c='b')\n",
        "ax.plot(x1, y1)\n",
        "\n",
        "#for q = 2\n",
        "theta1 = np.linspace( 0 , 2 * np.pi , 150 )\n",
        "x2 = eta * np.cos(theta1)\n",
        "y2 = eta * np.sin(theta1)\n",
        "ax.plot(x2, y2)\n",
        "\n",
        "#for q = 0.5\n",
        "theta2 = np.linspace( 0 , 2 * np.pi , 200 )\n",
        "x31 = eta * np.cos(theta2)**4\n",
        "y31 = eta * np.sin(theta2)**4\n",
        "ax.plot(x31, y31, 'g')\n",
        "x32 = -eta * np.cos(theta2)**4\n",
        "y32 = eta * np.sin(theta2)**4\n",
        "ax.plot(x32, y32, 'g')\n",
        "x33 = -eta * np.cos(theta2)**4\n",
        "y33 = -eta * np.sin(theta2)**4\n",
        "ax.plot(x33, y33, 'g')\n",
        "x34 = eta * np.cos(theta2)**4\n",
        "y34 = -eta * np.sin(theta2)**4\n",
        "ax.plot(x34, y34, 'g')\n",
        "\n",
        "#for q = 4\n",
        "x41 = eta * np.sqrt(np.cos(theta1))\n",
        "y41 = eta * np.sqrt(np.sin(theta1))\n",
        "ax.plot(x41, y41, 'r')\n",
        "x42 = -eta * np.sqrt(np.cos(theta1))\n",
        "y42 = eta * np.sqrt(np.sin(theta1))\n",
        "ax.plot(x42, y42, 'r')\n",
        "x43 = -eta * np.sqrt(np.cos(theta1))\n",
        "y43 = -eta * np.sqrt(np.sin(theta1))\n",
        "ax.plot(x43, y43, 'r')\n",
        "x44 = eta * np.sqrt(np.cos(theta1))\n",
        "y44 = -eta * np.sqrt(np.sin(theta1))\n",
        "ax.plot(x44, y44, 'r')\n",
        "\n",
        "\n",
        "plt.show()"
      ],
      "metadata": {
        "colab": {
          "base_uri": "https://localhost:8080/",
          "height": 746
        },
        "id": "e7LvFoISBwu1",
        "outputId": "77c4146b-e8fe-4653-b07e-e0ffe4506932"
      },
      "execution_count": 27,
      "outputs": [
        {
          "output_type": "stream",
          "name": "stderr",
          "text": [
            "/usr/local/lib/python3.7/dist-packages/ipykernel_launcher.py:72: RuntimeWarning: invalid value encountered in sqrt\n",
            "/usr/local/lib/python3.7/dist-packages/ipykernel_launcher.py:73: RuntimeWarning: invalid value encountered in sqrt\n",
            "/usr/local/lib/python3.7/dist-packages/ipykernel_launcher.py:75: RuntimeWarning: invalid value encountered in sqrt\n",
            "/usr/local/lib/python3.7/dist-packages/ipykernel_launcher.py:76: RuntimeWarning: invalid value encountered in sqrt\n",
            "/usr/local/lib/python3.7/dist-packages/ipykernel_launcher.py:78: RuntimeWarning: invalid value encountered in sqrt\n",
            "/usr/local/lib/python3.7/dist-packages/ipykernel_launcher.py:79: RuntimeWarning: invalid value encountered in sqrt\n",
            "/usr/local/lib/python3.7/dist-packages/ipykernel_launcher.py:81: RuntimeWarning: invalid value encountered in sqrt\n",
            "/usr/local/lib/python3.7/dist-packages/ipykernel_launcher.py:82: RuntimeWarning: invalid value encountered in sqrt\n"
          ]
        },
        {
          "output_type": "display_data",
          "data": {
            "text/plain": [
              "<Figure size 720x720 with 1 Axes>"
            ],
            "image/png": "[encoded data removed]"
          },
          "metadata": {
            "needs_background": "light"
          }
        }
      ]
    }
  ]
}