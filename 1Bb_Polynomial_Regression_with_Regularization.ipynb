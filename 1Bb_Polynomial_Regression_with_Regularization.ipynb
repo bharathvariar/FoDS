{
  "cells": [
    {
      "cell_type": "markdown",
      "metadata": {
        "id": "view-in-github",
        "colab_type": "text"
      },
      "source": [
        "<a href=\"https://colab.research.google.com/github/bharathvariar/FoDS/blob/main/1Bb_Polynomial_Regression_with_Regularization.ipynb\" target=\"_parent\"><img src=\"https://colab.research.google.com/assets/colab-badge.svg\" alt=\"Open In Colab\"/></a>"
      ]
    },
    {
      "cell_type": "markdown",
      "id": "1IMpVg6k2KpD",
      "metadata": {
        "id": "1IMpVg6k2KpD"
      },
      "source": [
        "# Polynomial Regression with Regularization\n",
        "Bharath Variar, 2019B5A70930H <br>\n",
        "Kanika Gandhi, 2019B5A71080H <br>\n",
        "Karan Moza, 2019B4A71372H "
      ]
    },
    {
      "cell_type": "markdown",
      "id": "NiUWrGKR2MPp",
      "metadata": {
        "id": "NiUWrGKR2MPp"
      },
      "source": [
        "## Importing Libraries"
      ]
    },
    {
      "cell_type": "code",
      "execution_count": null,
      "id": "8dfeada2",
      "metadata": {
        "id": "8dfeada2"
      },
      "outputs": [],
      "source": [
        "import numpy as np\n",
        "import pandas as pd\n",
        "import random\n",
        "import matplotlib.pyplot as plt\n",
        "import seaborn as sns\n",
        "from mpl_toolkits import mplot3d\n",
        "\n",
        "%matplotlib inline"
      ]
    },
    {
      "cell_type": "markdown",
      "id": "IjpUMULg2VL9",
      "metadata": {
        "id": "IjpUMULg2VL9"
      },
      "source": [
        "## Defining Functions"
      ]
    },
    {
      "cell_type": "code",
      "execution_count": null,
      "id": "d857bb64",
      "metadata": {
        "id": "d857bb64"
      },
      "outputs": [],
      "source": [
        "def pol_feat(mat, deg):\n",
        "    if deg == 1:\n",
        "        mat = mat.to_numpy()\n",
        "        m, n = mat.shape\n",
        "        return mat.reshape(n, m), n\n",
        "\n",
        "    for i in range(0, deg + 1):\n",
        "        mat = pd.concat(\n",
        "            [mat, pd.DataFrame(mat[\"MLOGP\"] ** (deg - i) * mat[\"RDCHI\"] ** i)], axis=1\n",
        "        )\n",
        "\n",
        "    if deg > 1:\n",
        "        return pol_feat(mat, deg - 1)"
      ]
    },
    {
      "cell_type": "code",
      "execution_count": null,
      "id": "d08ee056",
      "metadata": {
        "id": "d08ee056"
      },
      "outputs": [],
      "source": [
        "def initialize(dim):\n",
        "    b = random.random()\n",
        "    theta = np.random.rand(1, dim) * 0.01\n",
        "    return b, theta"
      ]
    },
    {
      "cell_type": "markdown",
      "id": "wlIBkX3p3yH_",
      "metadata": {
        "id": "wlIBkX3p3yH_"
      },
      "source": [
        "### Gradient Descent"
      ]
    },
    {
      "cell_type": "code",
      "execution_count": null,
      "id": "01d91f3f",
      "metadata": {
        "id": "01d91f3f"
      },
      "outputs": [],
      "source": [
        "def r_cost(y, t, theta, l, q):\n",
        "    return 0.5 * np.sum(np.power((t - y), 2)) / y.shape[1] + (l / 2) * np.sum(\n",
        "        np.power(abs(theta), q)\n",
        "    )"
      ]
    },
    {
      "cell_type": "code",
      "execution_count": null,
      "id": "d1303cfd",
      "metadata": {
        "id": "d1303cfd"
      },
      "outputs": [],
      "source": [
        "def r_gradient_descent(num_epochs, X, t, theta, bias, learning_rate, q, l):\n",
        "    # forward-propagation\n",
        "    costs = []\n",
        "    for iter in range(num_epochs):\n",
        "        y = np.dot(theta, X) + bias\n",
        "\n",
        "        loss = r_cost(y, t, theta, l, q)\n",
        "        costs.append(loss)\n",
        "\n",
        "        # back propagation\n",
        "        r_dW = (1 / y.shape[1]) * np.dot(y - t, X.T) + q * (l / 2) * np.power(\n",
        "            theta, q - 1\n",
        "        )\n",
        "        dBias = (1 / y.shape[1]) * np.sum((y - t))\n",
        "\n",
        "        # updation\n",
        "        theta = theta - learning_rate * r_dW\n",
        "        bias = bias - learning_rate * dBias\n",
        "\n",
        "    return costs"
      ]
    },
    {
      "cell_type": "code",
      "execution_count": null,
      "id": "8473af42",
      "metadata": {
        "id": "8473af42"
      },
      "outputs": [],
      "source": [
        "def r1_gradient_descent(num_epochs, X, t, theta, bias, learning_rate, q, l):\n",
        "\n",
        "    # forward-prop\n",
        "    costs = []\n",
        "    der = np.array([0, 0])\n",
        "    for iter in range(num_epochs):\n",
        "        y = np.dot(theta, X) + bias\n",
        "\n",
        "        loss = r_cost(y, t, theta, l, q)\n",
        "        costs.append(loss)\n",
        "\n",
        "        # backprop\n",
        "        if q == 0.5:\n",
        "            r_dW = (1 / y.shape[1]) * np.dot(y - t, X.T) + q * (l / 2) * np.power(\n",
        "                abs(theta), q - 1\n",
        "            )\n",
        "        else:\n",
        "            if abs(theta[0][0]) == theta[0][0]:\n",
        "                der[0] = 1\n",
        "            else:\n",
        "                der[0] = -1\n",
        "            if abs(theta[0][1]) == theta[0][1]:\n",
        "                der[1] = 1\n",
        "            else:\n",
        "                der[1] = -1\n",
        "            r_dW = (1 / y.shape[1]) * np.dot(y - t, X.T) + (l / 2) * der\n",
        "\n",
        "        dBias = (1 / y.shape[1]) * np.sum((y - t))\n",
        "\n",
        "        # updation\n",
        "        theta = theta - learning_rate * r_dW\n",
        "        bias = bias - learning_rate * dBias\n",
        "\n",
        "    return costs"
      ]
    },
    {
      "cell_type": "code",
      "execution_count": null,
      "id": "4e7c4780",
      "metadata": {
        "id": "4e7c4780"
      },
      "outputs": [],
      "source": [
        "def testing(X, t, theta, bias, learning_rate, q, l):\n",
        "    y = np.dot(theta, X) + bias\n",
        "    error = r_cost(y, t, theta, l, q)\n",
        "    return error"
      ]
    },
    {
      "cell_type": "markdown",
      "id": "N1PTWSER2b50",
      "metadata": {
        "id": "N1PTWSER2b50"
      },
      "source": [
        "## Dataset handling"
      ]
    },
    {
      "cell_type": "code",
      "execution_count": null,
      "id": "7cc66fd1",
      "metadata": {
        "colab": {
          "base_uri": "https://localhost:8080/",
          "height": 206
        },
        "id": "7cc66fd1",
        "outputId": "36451685-68bf-4c46-bf4f-644b16dd77db"
      },
      "outputs": [
        {
          "data": {
            "text/html": [
              "<div>\n",
              "<style scoped>\n",
              "    .dataframe tbody tr th:only-of-type {\n",
              "        vertical-align: middle;\n",
              "    }\n",
              "\n",
              "    .dataframe tbody tr th {\n",
              "        vertical-align: top;\n",
              "    }\n",
              "\n",
              "    .dataframe thead th {\n",
              "        text-align: right;\n",
              "    }\n",
              "</style>\n",
              "<table border=\"1\" class=\"dataframe\">\n",
              "  <thead>\n",
              "    <tr style=\"text-align: right;\">\n",
              "      <th></th>\n",
              "      <th>MLOGP</th>\n",
              "      <th>RDCHI</th>\n",
              "      <th>quantitative response of LC50</th>\n",
              "    </tr>\n",
              "  </thead>\n",
              "  <tbody>\n",
              "    <tr>\n",
              "      <th>0</th>\n",
              "      <td>2.419</td>\n",
              "      <td>1.225</td>\n",
              "      <td>3.740</td>\n",
              "    </tr>\n",
              "    <tr>\n",
              "      <th>1</th>\n",
              "      <td>2.638</td>\n",
              "      <td>1.401</td>\n",
              "      <td>4.330</td>\n",
              "    </tr>\n",
              "    <tr>\n",
              "      <th>2</th>\n",
              "      <td>5.799</td>\n",
              "      <td>2.930</td>\n",
              "      <td>7.019</td>\n",
              "    </tr>\n",
              "    <tr>\n",
              "      <th>3</th>\n",
              "      <td>5.453</td>\n",
              "      <td>2.887</td>\n",
              "      <td>6.723</td>\n",
              "    </tr>\n",
              "    <tr>\n",
              "      <th>4</th>\n",
              "      <td>4.068</td>\n",
              "      <td>2.758</td>\n",
              "      <td>5.979</td>\n",
              "    </tr>\n",
              "  </tbody>\n",
              "</table>\n",
              "</div>"
            ],
            "text/plain": [
              "   MLOGP  RDCHI  quantitative response of LC50\n",
              "0  2.419  1.225                          3.740\n",
              "1  2.638  1.401                          4.330\n",
              "2  5.799  2.930                          7.019\n",
              "3  5.453  2.887                          6.723\n",
              "4  4.068  2.758                          5.979"
            ]
          },
          "execution_count": 8,
          "metadata": {},
          "output_type": "execute_result"
        }
      ],
      "source": [
        "df = pd.read_csv(\"fods_1.csv\")\n",
        "df.head()"
      ]
    },
    {
      "cell_type": "markdown",
      "id": "XcW14gSt3nw-",
      "metadata": {
        "id": "XcW14gSt3nw-"
      },
      "source": [
        "### Shuffling and splitting data into training and testing subsets"
      ]
    },
    {
      "cell_type": "code",
      "execution_count": null,
      "id": "19366a6a",
      "metadata": {
        "id": "19366a6a"
      },
      "outputs": [],
      "source": [
        "# Shuffling the dataset\n",
        "shuffled_df = df.sample(frac=1, random_state=42)\n",
        "\n",
        "# Define a size for your train set\n",
        "training_data_size = int(0.8 * len(df))\n",
        "\n",
        "# Split your dataset\n",
        "training_data = shuffled_df[:training_data_size]\n",
        "testing_data = shuffled_df[training_data_size:]"
      ]
    },
    {
      "cell_type": "code",
      "execution_count": null,
      "id": "e0d7ecc7",
      "metadata": {
        "id": "e0d7ecc7"
      },
      "outputs": [],
      "source": [
        "X_train = training_data[[\"MLOGP\", \"RDCHI\"]]\n",
        "y_train = training_data[\"quantitative response of LC50\"]\n",
        "X_test = testing_data[[\"MLOGP\", \"RDCHI\"]]\n",
        "y_test = testing_data[\"quantitative response of LC50\"]"
      ]
    },
    {
      "cell_type": "markdown",
      "id": "BTbP-RNj06_H",
      "metadata": {
        "id": "BTbP-RNj06_H"
      },
      "source": [
        "Polynomial of the form:\n",
        "$$ y = w_0 + w_1.x + w_2.x^2 +\\dots+ w_9.x^9 $$"
      ]
    },
    {
      "cell_type": "code",
      "execution_count": null,
      "id": "3658752e",
      "metadata": {
        "id": "3658752e"
      },
      "outputs": [],
      "source": [
        "data, num_features = pol_feat(X_train, 1)\n",
        "test_data, num_features = pol_feat(X_test, 1)"
      ]
    },
    {
      "cell_type": "code",
      "execution_count": null,
      "id": "2e9e844b",
      "metadata": {
        "id": "2e9e844b"
      },
      "outputs": [],
      "source": [
        "# normalizing training data\n",
        "mean = np.mean(data, axis=1, keepdims=True)\n",
        "std = np.std(data, axis=1, keepdims=True)\n",
        "data = (data - mean) / std"
      ]
    },
    {
      "cell_type": "code",
      "execution_count": null,
      "id": "f8099653",
      "metadata": {
        "id": "f8099653"
      },
      "outputs": [],
      "source": [
        "# normalizing testing data\n",
        "test_data = (test_data - mean) / std"
      ]
    },
    {
      "cell_type": "code",
      "execution_count": null,
      "id": "0becb990",
      "metadata": {
        "id": "0becb990"
      },
      "outputs": [],
      "source": [
        "train_err_arr = []\n",
        "test_err_arr = []"
      ]
    },
    {
      "cell_type": "markdown",
      "id": "xiByihi34GXu",
      "metadata": {
        "id": "xiByihi34GXu"
      },
      "source": [
        "## Implementation"
      ]
    },
    {
      "cell_type": "markdown",
      "id": "56bd1a9a",
      "metadata": {
        "id": "56bd1a9a"
      },
      "source": [
        "### `q` = 0.5, \n",
        "`learning_rate` = 0.1 <br>\n",
        "`lambda(l)` = $1.0 \\times 10^{-4}$"
      ]
    },
    {
      "cell_type": "code",
      "execution_count": null,
      "id": "49c1f4f5",
      "metadata": {
        "colab": {
          "base_uri": "https://localhost:8080/",
          "height": 301
        },
        "id": "49c1f4f5",
        "outputId": "97e908e2-274e-40eb-863b-c6b9709919f4"
      },
      "outputs": [
        {
          "name": "stdout",
          "output_type": "stream",
          "text": [
            "Training error = 1.44985873\n"
          ]
        },
        {
          "data": {
            "image/png": "[encoded data removed]",
            "text/plain": [
              "<Figure size 432x288 with 1 Axes>"
            ]
          },
          "metadata": {
            "needs_background": "light"
          },
          "output_type": "display_data"
        }
      ],
      "source": [
        "b, theta = initialize(num_features)\n",
        "costs_q1 = r1_gradient_descent(\n",
        "    300, data, y_train.to_numpy().reshape(1, -1), theta, b, 0.1, 0.5, 1.0e-4\n",
        ")\n",
        "print(f\"Training error = {costs_q1[-1]:0.8f}\")\n",
        "train_err_arr.append(costs_q1[-1])\n",
        "fig, ax = plt.subplots(1, 1, sharex=True)\n",
        "ax.plot(costs_q1)\n",
        "t = ax.set_title(f\"Training Error vs. Epochs\", fontsize=18)\n",
        "x = ax.set_xlabel(\"Number of Epochs\", fontsize=16, fontweight=\"bold\", color=\"gray\")\n",
        "y = ax.set_ylabel(\"Mean Squared Error\", fontsize=16, fontweight=\"bold\", color=\"gray\")"
      ]
    },
    {
      "cell_type": "code",
      "execution_count": null,
      "id": "9bfecac8",
      "metadata": {
        "colab": {
          "base_uri": "https://localhost:8080/"
        },
        "id": "9bfecac8",
        "outputId": "43833d06-ae35-41ad-f2d1-d1b48dc7d5c2"
      },
      "outputs": [
        {
          "name": "stdout",
          "output_type": "stream",
          "text": [
            "Testing error = 7.63266510\n"
          ]
        }
      ],
      "source": [
        "test_error = testing(\n",
        "    test_data, y_test.to_numpy().reshape(1, -1), theta, b, 0.1, 0.5, 1.0e-4\n",
        ")\n",
        "print(f\"Testing error = {test_error:.8f}\")\n",
        "test_err_arr.append(test_error)"
      ]
    },
    {
      "cell_type": "markdown",
      "id": "a4bfbb2c",
      "metadata": {
        "id": "a4bfbb2c"
      },
      "source": [
        "### `q` = 1, \n",
        "`learning_rate` = 0.1 <br>\n",
        "`l` = $1.0 \\times 10^{-4}$"
      ]
    },
    {
      "cell_type": "code",
      "execution_count": null,
      "id": "7cfc7e1c",
      "metadata": {
        "colab": {
          "base_uri": "https://localhost:8080/",
          "height": 301
        },
        "id": "7cfc7e1c",
        "outputId": "d2f14ca6-8c1b-43c9-fa34-409d4d8895d7"
      },
      "outputs": [
        {
          "name": "stdout",
          "output_type": "stream",
          "text": [
            "Training error = 1.44984179\n"
          ]
        },
        {
          "data": {
            "image/png": "[encoded data removed]",
            "text/plain": [
              "<Figure size 432x288 with 1 Axes>"
            ]
          },
          "metadata": {
            "needs_background": "light"
          },
          "output_type": "display_data"
        }
      ],
      "source": [
        "b, theta = initialize(num_features)\n",
        "costs_q2 = r1_gradient_descent(\n",
        "    300, data, y_train.to_numpy().reshape(1, -1), theta, b, 0.1, 1, 1.0e-4\n",
        ")\n",
        "print(f\"Training error = {costs_q2[-1]:0.8f}\")\n",
        "train_err_arr.append(costs_q2[-1])\n",
        "fig, ax = plt.subplots(1, 1, sharex=True)\n",
        "ax.plot(costs_q2)\n",
        "t = ax.set_title(f\"Training Error vs. Epochs\", fontsize=18)\n",
        "x = ax.set_xlabel(\"Number of Epochs\", fontsize=16, fontweight=\"bold\", color=\"gray\")\n",
        "y = ax.set_ylabel(\"Mean Squared Error\", fontsize=16, fontweight=\"bold\", color=\"gray\")"
      ]
    },
    {
      "cell_type": "code",
      "execution_count": null,
      "id": "ec0c6984",
      "metadata": {
        "colab": {
          "base_uri": "https://localhost:8080/"
        },
        "id": "ec0c6984",
        "outputId": "95b05dc2-649c-4315-b493-1d09b40d6d84"
      },
      "outputs": [
        {
          "name": "stdout",
          "output_type": "stream",
          "text": [
            "Testing error = 7.47012114\n"
          ]
        }
      ],
      "source": [
        "test_error = testing(\n",
        "    test_data, y_test.to_numpy().reshape(1, -1), theta, b, 0.1, 1, 1.0e-4\n",
        ")\n",
        "print(f\"Testing error = {test_error:.8f}\")\n",
        "test_err_arr.append(test_error)"
      ]
    },
    {
      "cell_type": "markdown",
      "id": "da45a9c4",
      "metadata": {
        "id": "da45a9c4"
      },
      "source": [
        "### `q` = 2, \n",
        "`learning_rate` = 0.1 <br>\n",
        "`l` = $1.0 \\times 10^{-4}$"
      ]
    },
    {
      "cell_type": "code",
      "execution_count": null,
      "id": "c86f2c61",
      "metadata": {
        "colab": {
          "base_uri": "https://localhost:8080/",
          "height": 301
        },
        "id": "c86f2c61",
        "outputId": "1b0ef40e-fb09-4b2b-9558-92a2fa64df40"
      },
      "outputs": [
        {
          "name": "stdout",
          "output_type": "stream",
          "text": [
            "Training error = 1.44983705\n"
          ]
        },
        {
          "data": {
            "image/png": "[encoded data removed]",
            "text/plain": [
              "<Figure size 432x288 with 1 Axes>"
            ]
          },
          "metadata": {
            "needs_background": "light"
          },
          "output_type": "display_data"
        }
      ],
      "source": [
        "b, theta = initialize(num_features)\n",
        "costs_q3 = r_gradient_descent(\n",
        "    300, data, y_train.to_numpy().reshape(1, -1), theta, b, 0.1, 2, 1.0e-4\n",
        ")\n",
        "print(f\"Training error = {costs_q3[-1]:0.8f}\")\n",
        "train_err_arr.append(costs_q3[-1])\n",
        "fig, ax = plt.subplots(1, 1, sharex=True)\n",
        "ax.plot(costs_q3)\n",
        "t = ax.set_title(f\"Training Error vs. Epochs\", fontsize=18)\n",
        "x = ax.set_xlabel(\"Number of Epochs\", fontsize=16, fontweight=\"bold\", color=\"gray\")\n",
        "y = ax.set_ylabel(\"Mean Squared Error\", fontsize=16, fontweight=\"bold\", color=\"gray\")"
      ]
    },
    {
      "cell_type": "code",
      "execution_count": null,
      "id": "2d5077f4",
      "metadata": {
        "colab": {
          "base_uri": "https://localhost:8080/"
        },
        "id": "2d5077f4",
        "outputId": "9818a45e-68ec-432d-db1b-8d7adda195aa"
      },
      "outputs": [
        {
          "name": "stdout",
          "output_type": "stream",
          "text": [
            "Testing error = 7.58703214\n"
          ]
        }
      ],
      "source": [
        "test_error = testing(\n",
        "    test_data, y_test.to_numpy().reshape(1, -1), theta, b, 0.1, 2, 1.0e-4\n",
        ")\n",
        "print(f\"Testing error = {test_error:.8f}\")\n",
        "test_err_arr.append(test_error)"
      ]
    },
    {
      "cell_type": "markdown",
      "id": "f5c9c08c",
      "metadata": {
        "id": "f5c9c08c"
      },
      "source": [
        "### `q` = 4, \n",
        "`learning_rate` = 0.1 <br>\n",
        "`l` = $1.0 \\times 10^{-4}$"
      ]
    },
    {
      "cell_type": "code",
      "execution_count": null,
      "id": "7caca0cd",
      "metadata": {
        "colab": {
          "base_uri": "https://localhost:8080/",
          "height": 301
        },
        "id": "7caca0cd",
        "outputId": "8352230b-be8d-4b2f-c4d0-15ab8f3634a9"
      },
      "outputs": [
        {
          "name": "stdout",
          "output_type": "stream",
          "text": [
            "Training error = 1.44983654\n"
          ]
        },
        {
          "data": {
            "image/png": "[encoded data removed]",
            "text/plain": [
              "<Figure size 432x288 with 1 Axes>"
            ]
          },
          "metadata": {
            "needs_background": "light"
          },
          "output_type": "display_data"
        }
      ],
      "source": [
        "b, theta = initialize(num_features)\n",
        "costs_q4 = r_gradient_descent(\n",
        "    300, data, y_train.to_numpy().reshape(1, -1), theta, b, 0.1, 4, 1.0e-4\n",
        ")\n",
        "print(f\"Training error = {costs_q4[-1]:0.8f}\")\n",
        "train_err_arr.append(costs_q4[-1])\n",
        "fig, ax = plt.subplots(1, 1, sharex=True)\n",
        "ax.plot(costs_q4)\n",
        "t = ax.set_title(f\"Training Error vs. Epochs\", fontsize=18)\n",
        "x = ax.set_xlabel(\"Number of Epochs\", fontsize=16, fontweight=\"bold\", color=\"gray\")\n",
        "y = ax.set_ylabel(\"Mean Squared Error\", fontsize=16, fontweight=\"bold\", color=\"gray\")"
      ]
    },
    {
      "cell_type": "code",
      "execution_count": null,
      "id": "92624c48",
      "metadata": {
        "colab": {
          "base_uri": "https://localhost:8080/"
        },
        "id": "92624c48",
        "outputId": "d44ae0cc-da9a-466d-95a7-401cb1b45e21"
      },
      "outputs": [
        {
          "name": "stdout",
          "output_type": "stream",
          "text": [
            "Testing error = 10.32667100\n"
          ]
        }
      ],
      "source": [
        "test_error = testing(\n",
        "    test_data, y_test.to_numpy().reshape(1, -1), theta, b, 0.1, 4, 1.0e-4\n",
        ")\n",
        "print(f\"Testing error = {test_error:.8f}\")\n",
        "test_err_arr.append(test_error)"
      ]
    },
    {
      "cell_type": "markdown",
      "id": "dcdbcc94",
      "metadata": {
        "id": "dcdbcc94"
      },
      "source": [
        "## Visualization"
      ]
    },
    {
      "cell_type": "code",
      "execution_count": null,
      "id": "8912a579",
      "metadata": {
        "id": "8912a579",
        "outputId": "2e535a48-55ca-4a90-b7b5-016e643160eb"
      },
      "outputs": [
        {
          "data": {
            "image/png": "[encoded data removed]",
            "text/plain": [
              "<Figure size 1080x288 with 2 Axes>"
            ]
          },
          "metadata": {
            "needs_background": "light"
          },
          "output_type": "display_data"
        }
      ],
      "source": [
        "q_val = [0.5, 1, 2, 4]\n",
        "fig, (ax1, ax2) = plt.subplots(1, 2, sharex=True, figsize=(15, 4))\n",
        "ax1.plot(q_val, train_err_arr, \"bo-\")\n",
        "t = ax1.set_title(f\"Training Error vs. q\", fontsize=18)\n",
        "x = ax1.set_xlabel(\"q\", fontsize=16, fontweight=\"bold\", color=\"gray\")\n",
        "y = ax1.set_ylabel(\"Mean Squared Error\", fontsize=16, fontweight=\"bold\", color=\"gray\")\n",
        "ax2.plot(q_val, test_err_arr, \"ro-\")\n",
        "t = ax2.set_title(f\"Testing Error vs. q\", fontsize=18)\n",
        "x = ax2.set_xlabel(\"q\", fontsize=16, fontweight=\"bold\", color=\"gray\")\n",
        "y = ax2.set_ylabel(\"Mean Squared Error\", fontsize=16, fontweight=\"bold\", color=\"gray\")"
      ]
    }
  ],
  "metadata": {
    "colab": {
      "provenance": [],
      "toc_visible": true,
      "include_colab_link": true
    },
    "kernelspec": {
      "display_name": "Python 3 (ipykernel)",
      "language": "python",
      "name": "python3"
    },
    "language_info": {
      "codemirror_mode": {
        "name": "ipython",
        "version": 3
      },
      "file_extension": ".py",
      "mimetype": "text/x-python",
      "name": "python",
      "nbconvert_exporter": "python",
      "pygments_lexer": "ipython3",
      "version": "3.8.12"
    }
  },
  "nbformat": 4,
  "nbformat_minor": 5
}