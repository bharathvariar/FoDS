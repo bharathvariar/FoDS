{
  "cells": [
    {
      "cell_type": "markdown",
      "metadata": {
        "id": "view-in-github",
        "colab_type": "text"
      },
      "source": [
        "<a href=\"https://colab.research.google.com/github/bharathvariar/FoDS/blob/main/1B_Polynomial_Regression_and_Regularization.ipynb\" target=\"_parent\"><img src=\"https://colab.research.google.com/assets/colab-badge.svg\" alt=\"Open In Colab\"/></a>"
      ]
    },
    {
      "cell_type": "markdown",
      "source": [
        "#Polynomial Regression and Regularization\n",
        "Bharath Variar, 2019B5A70930H <br>\n",
        "Kanika Gandhi, 2019B5A71080H <br>\n",
        "Karan Moza, 2019B4A71372H "
      ],
      "metadata": {
        "id": "1IMpVg6k2KpD"
      },
      "id": "1IMpVg6k2KpD"
    },
    {
      "cell_type": "markdown",
      "source": [
        "## Importing Libraries"
      ],
      "metadata": {
        "id": "NiUWrGKR2MPp"
      },
      "id": "NiUWrGKR2MPp"
    },
    {
      "cell_type": "code",
      "execution_count": 36,
      "id": "8dfeada2",
      "metadata": {
        "id": "8dfeada2"
      },
      "outputs": [],
      "source": [
        "import numpy as np\n",
        "import pandas as pd\n",
        "import random\n",
        "import matplotlib.pyplot as plt\n",
        "import seaborn as sns\n",
        "from mpl_toolkits import mplot3d\n",
        "%matplotlib inline"
      ]
    },
    {
      "cell_type": "markdown",
      "source": [
        "## Defining Functions"
      ],
      "metadata": {
        "id": "IjpUMULg2VL9"
      },
      "id": "IjpUMULg2VL9"
    },
    {
      "cell_type": "code",
      "execution_count": 37,
      "id": "d857bb64",
      "metadata": {
        "id": "d857bb64"
      },
      "outputs": [],
      "source": [
        "def pol_feat(mat,deg):\n",
        "    if(deg == 1):\n",
        "        mat = mat.to_numpy()\n",
        "        m, n = mat.shape\n",
        "        return mat.reshape(n, m), n\n",
        "    \n",
        "    for i in range(0,deg+1):\n",
        "        mat = pd.concat([mat,pd.DataFrame(mat['MLOGP']**(deg-i)*mat['RDCHI']**i)],axis=1)\n",
        "    \n",
        "    if (deg > 1):\n",
        "        return pol_feat(mat,deg-1)     "
      ]
    },
    {
      "cell_type": "code",
      "execution_count": 38,
      "id": "d08ee056",
      "metadata": {
        "id": "d08ee056"
      },
      "outputs": [],
      "source": [
        "def initialize(dim):\n",
        "    b=random.random()\n",
        "    theta=np.random.rand(1, dim)*0.01\n",
        "    return b,theta"
      ]
    },
    {
      "cell_type": "code",
      "execution_count": 39,
      "id": "01d91f3f",
      "metadata": {
        "id": "01d91f3f"
      },
      "outputs": [],
      "source": [
        "def r_cost(y,t,theta,l,q):\n",
        "    return 0.5*np.sum(np.power((t-y),2))/y.shape[1] + (l/2)*np.sum(np.power(abs(theta),q))"
      ]
    },
    {
      "cell_type": "markdown",
      "source": [
        "### Defining Gradient Descent"
      ],
      "metadata": {
        "id": "wlIBkX3p3yH_"
      },
      "id": "wlIBkX3p3yH_"
    },
    {
      "cell_type": "code",
      "execution_count": 40,
      "id": "d1303cfd",
      "metadata": {
        "id": "d1303cfd"
      },
      "outputs": [],
      "source": [
        "def r_gradient_descent(num_epochs, X, t, theta, bias, learning_rate, q, l):\n",
        "    # forward-propagation\n",
        "    costs = []\n",
        "    for iter in range(num_epochs):\n",
        "        y = np.dot(theta, X) + bias\n",
        "        \n",
        "        loss = r_cost(y, t, theta, l, q)\n",
        "        costs.append(loss)\n",
        "        \n",
        "        #back propagation\n",
        "        r_dW = (1/y.shape[1]) * np.dot(y - t, X.T) + q*(l/2)*np.power(theta, q-1)\n",
        "        dBias = (1/y.shape[1]) * np.sum((y-t))\n",
        "        \n",
        "        #updation\n",
        "        theta = theta - learning_rate*r_dW\n",
        "        bias = bias - learning_rate*dBias\n",
        "       \n",
        "    return costs"
      ]
    },
    {
      "cell_type": "code",
      "execution_count": 41,
      "id": "8473af42",
      "metadata": {
        "id": "8473af42"
      },
      "outputs": [],
      "source": [
        "def r1_gradient_descent(num_epochs, X, t, theta, bias, learning_rate, q, l):\n",
        "    \n",
        "    #forward-prop\n",
        "    costs = []\n",
        "    der = np.array([0,0])\n",
        "    for iter in range(num_epochs):\n",
        "        y = np.dot(theta, X) + bias\n",
        "        \n",
        "        loss = r_cost(y, t, theta, l, q)\n",
        "        costs.append(loss)\n",
        "        \n",
        "        #backprop\n",
        "        if q == 0.5:\n",
        "            r_dW = (1/y.shape[1]) * np.dot(y - t, X.T) + q*(l/2)*np.power(abs(theta), q-1)\n",
        "        else:\n",
        "            if abs(theta[0][0]) == theta[0][0] :\n",
        "                der[0] = 1\n",
        "            else :\n",
        "                der[0] = -1\n",
        "            if abs(theta[0][1]) == theta[0][1] :\n",
        "                der[1] = 1\n",
        "            else :\n",
        "                der[1] = -1\n",
        "            r_dW = (1/y.shape[1]) * np.dot(y - t, X.T) + (l/2)*der\n",
        "\n",
        "        dBias = (1/y.shape[1]) * np.sum((y-t))\n",
        "        \n",
        "        #updation\n",
        "        theta = theta - learning_rate*r_dW\n",
        "        bias = bias - learning_rate*dBias\n",
        "       \n",
        "    return costs"
      ]
    },
    {
      "cell_type": "code",
      "execution_count": 42,
      "id": "4e7c4780",
      "metadata": {
        "id": "4e7c4780"
      },
      "outputs": [],
      "source": [
        "def testing(X, t, theta, bias, learning_rate, q, l):\n",
        "    y = np.dot(theta, X) + bias\n",
        "    error = r_cost(y, t, theta, l, q)\n",
        "    return error"
      ]
    },
    {
      "cell_type": "markdown",
      "source": [
        "## Dataset handling"
      ],
      "metadata": {
        "id": "N1PTWSER2b50"
      },
      "id": "N1PTWSER2b50"
    },
    {
      "cell_type": "code",
      "execution_count": 43,
      "id": "7cc66fd1",
      "metadata": {
        "id": "7cc66fd1",
        "colab": {
          "base_uri": "https://localhost:8080/",
          "height": 206
        },
        "outputId": "859c5ed2-89a1-46b0-a744-a8eac118382a"
      },
      "outputs": [
        {
          "output_type": "execute_result",
          "data": {
            "text/plain": [
              "   MLOGP  RDCHI  quantitative response of LC50\n",
              "0  2.419  1.225                          3.740\n",
              "1  2.638  1.401                          4.330\n",
              "2  5.799  2.930                          7.019\n",
              "3  5.453  2.887                          6.723\n",
              "4  4.068  2.758                          5.979"
            ],
            "text/html": [
              "\n",
              "  <div id=\"df-053e222f-06d8-40b5-a676-fc6613216235\">\n",
              "    <div class=\"colab-df-container\">\n",
              "      <div>\n",
              "<style scoped>\n",
              "    .dataframe tbody tr th:only-of-type {\n",
              "        vertical-align: middle;\n",
              "    }\n",
              "\n",
              "    .dataframe tbody tr th {\n",
              "        vertical-align: top;\n",
              "    }\n",
              "\n",
              "    .dataframe thead th {\n",
              "        text-align: right;\n",
              "    }\n",
              "</style>\n",
              "<table border=\"1\" class=\"dataframe\">\n",
              "  <thead>\n",
              "    <tr style=\"text-align: right;\">\n",
              "      <th></th>\n",
              "      <th>MLOGP</th>\n",
              "      <th>RDCHI</th>\n",
              "      <th>quantitative response of LC50</th>\n",
              "    </tr>\n",
              "  </thead>\n",
              "  <tbody>\n",
              "    <tr>\n",
              "      <th>0</th>\n",
              "      <td>2.419</td>\n",
              "      <td>1.225</td>\n",
              "      <td>3.740</td>\n",
              "    </tr>\n",
              "    <tr>\n",
              "      <th>1</th>\n",
              "      <td>2.638</td>\n",
              "      <td>1.401</td>\n",
              "      <td>4.330</td>\n",
              "    </tr>\n",
              "    <tr>\n",
              "      <th>2</th>\n",
              "      <td>5.799</td>\n",
              "      <td>2.930</td>\n",
              "      <td>7.019</td>\n",
              "    </tr>\n",
              "    <tr>\n",
              "      <th>3</th>\n",
              "      <td>5.453</td>\n",
              "      <td>2.887</td>\n",
              "      <td>6.723</td>\n",
              "    </tr>\n",
              "    <tr>\n",
              "      <th>4</th>\n",
              "      <td>4.068</td>\n",
              "      <td>2.758</td>\n",
              "      <td>5.979</td>\n",
              "    </tr>\n",
              "  </tbody>\n",
              "</table>\n",
              "</div>\n",
              "      <button class=\"colab-df-convert\" onclick=\"convertToInteractive('df-053e222f-06d8-40b5-a676-fc6613216235')\"\n",
              "              title=\"Convert this dataframe to an interactive table.\"\n",
              "              style=\"display:none;\">\n",
              "        \n",
              "  <svg xmlns=\"http://www.w3.org/2000/svg\" height=\"24px\"viewBox=\"0 0 24 24\"\n",
              "       width=\"24px\">\n",
              "    <path d=\"M0 0h24v24H0V0z\" fill=\"none\"/>\n",
              "    <path d=\"M18.56 5.44l.94 2.06.94-2.06 2.06-.94-2.06-.94-.94-2.06-.94 2.06-2.06.94zm-11 1L8.5 8.5l.94-2.06 2.06-.94-2.06-.94L8.5 2.5l-.94 2.06-2.06.94zm10 10l.94 2.06.94-2.06 2.06-.94-2.06-.94-.94-2.06-.94 2.06-2.06.94z\"/><path d=\"M17.41 7.96l-1.37-1.37c-.4-.4-.92-.59-1.43-.59-.52 0-1.04.2-1.43.59L10.3 9.45l-7.72 7.72c-.78.78-.78 2.05 0 2.83L4 21.41c.39.39.9.59 1.41.59.51 0 1.02-.2 1.41-.59l7.78-7.78 2.81-2.81c.8-.78.8-2.07 0-2.86zM5.41 20L4 18.59l7.72-7.72 1.47 1.35L5.41 20z\"/>\n",
              "  </svg>\n",
              "      </button>\n",
              "      \n",
              "  <style>\n",
              "    .colab-df-container {\n",
              "      display:flex;\n",
              "      flex-wrap:wrap;\n",
              "      gap: 12px;\n",
              "    }\n",
              "\n",
              "    .colab-df-convert {\n",
              "      background-color: #E8F0FE;\n",
              "      border: none;\n",
              "      border-radius: 50%;\n",
              "      cursor: pointer;\n",
              "      display: none;\n",
              "      fill: #1967D2;\n",
              "      height: 32px;\n",
              "      padding: 0 0 0 0;\n",
              "      width: 32px;\n",
              "    }\n",
              "\n",
              "    .colab-df-convert:hover {\n",
              "      background-color: #E2EBFA;\n",
              "      box-shadow: 0px 1px 2px rgba(60, 64, 67, 0.3), 0px 1px 3px 1px rgba(60, 64, 67, 0.15);\n",
              "      fill: #174EA6;\n",
              "    }\n",
              "\n",
              "    [theme=dark] .colab-df-convert {\n",
              "      background-color: #3B4455;\n",
              "      fill: #D2E3FC;\n",
              "    }\n",
              "\n",
              "    [theme=dark] .colab-df-convert:hover {\n",
              "      background-color: #434B5C;\n",
              "      box-shadow: 0px 1px 3px 1px rgba(0, 0, 0, 0.15);\n",
              "      filter: drop-shadow(0px 1px 2px rgba(0, 0, 0, 0.3));\n",
              "      fill: #FFFFFF;\n",
              "    }\n",
              "  </style>\n",
              "\n",
              "      <script>\n",
              "        const buttonEl =\n",
              "          document.querySelector('#df-053e222f-06d8-40b5-a676-fc6613216235 button.colab-df-convert');\n",
              "        buttonEl.style.display =\n",
              "          google.colab.kernel.accessAllowed ? 'block' : 'none';\n",
              "\n",
              "        async function convertToInteractive(key) {\n",
              "          const element = document.querySelector('#df-053e222f-06d8-40b5-a676-fc6613216235');\n",
              "          const dataTable =\n",
              "            await google.colab.kernel.invokeFunction('convertToInteractive',\n",
              "                                                     [key], {});\n",
              "          if (!dataTable) return;\n",
              "\n",
              "          const docLinkHtml = 'Like what you see? Visit the ' +\n",
              "            '<a target=\"_blank\" href=https://colab.research.google.com/notebooks/data_table.ipynb>data table notebook</a>'\n",
              "            + ' to learn more about interactive tables.';\n",
              "          element.innerHTML = '';\n",
              "          dataTable['output_type'] = 'display_data';\n",
              "          await google.colab.output.renderOutput(dataTable, element);\n",
              "          const docLink = document.createElement('div');\n",
              "          docLink.innerHTML = docLinkHtml;\n",
              "          element.appendChild(docLink);\n",
              "        }\n",
              "      </script>\n",
              "    </div>\n",
              "  </div>\n",
              "  "
            ]
          },
          "metadata": {},
          "execution_count": 43
        }
      ],
      "source": [
        "df = pd.read_csv(\"fods_1.csv\")\n",
        "df.head()"
      ]
    },
    {
      "cell_type": "code",
      "execution_count": 44,
      "id": "19366a6a",
      "metadata": {
        "id": "19366a6a"
      },
      "outputs": [],
      "source": [
        "# Shuffling the dataset\n",
        "shuffled_df = df.sample(frac=1,random_state=100)\n",
        "\n",
        "# Define a size for your train set \n",
        "training_data_size = int(0.8 * len(df))\n",
        "\n",
        "# Split your dataset \n",
        "training_data = shuffled_df[:training_data_size]\n",
        "testing_data = shuffled_df[training_data_size:]"
      ]
    },
    {
      "cell_type": "markdown",
      "source": [
        "### Splitting data into training and testing subsets"
      ],
      "metadata": {
        "id": "XcW14gSt3nw-"
      },
      "id": "XcW14gSt3nw-"
    },
    {
      "cell_type": "code",
      "execution_count": 45,
      "id": "e0d7ecc7",
      "metadata": {
        "id": "e0d7ecc7"
      },
      "outputs": [],
      "source": [
        "X_train = training_data[['MLOGP','RDCHI']]\n",
        "y_train = training_data['quantitative response of LC50']\n",
        "X_test = testing_data[['MLOGP','RDCHI']]\n",
        "y_test = testing_data['quantitative response of LC50']"
      ]
    },
    {
      "cell_type": "markdown",
      "source": [
        "Polynomial of the form:\n",
        "$$ y = w_0 + w_1.x + w_2.x^2 +\\dots+ w_9.x^9 $$"
      ],
      "metadata": {
        "id": "BTbP-RNj06_H"
      },
      "id": "BTbP-RNj06_H"
    },
    {
      "cell_type": "code",
      "execution_count": 46,
      "id": "3658752e",
      "metadata": {
        "id": "3658752e"
      },
      "outputs": [],
      "source": [
        "data, num_features = pol_feat(X_train,1)\n",
        "test_data, num_features = pol_feat(X_test,1)"
      ]
    },
    {
      "cell_type": "code",
      "execution_count": 47,
      "id": "2e9e844b",
      "metadata": {
        "id": "2e9e844b"
      },
      "outputs": [],
      "source": [
        "# normalizing training data\n",
        "mean = np.mean(data, axis = 1, keepdims = True)\n",
        "std = np.std(data, axis = 1, keepdims = True)\n",
        "data = (data - mean) / std"
      ]
    },
    {
      "cell_type": "code",
      "execution_count": 48,
      "id": "f8099653",
      "metadata": {
        "id": "f8099653"
      },
      "outputs": [],
      "source": [
        "# normalizing testing data\n",
        "test_data = (test_data - mean) / std"
      ]
    },
    {
      "cell_type": "code",
      "execution_count": 49,
      "id": "50721a11",
      "metadata": {
        "id": "50721a11",
        "colab": {
          "base_uri": "https://localhost:8080/"
        },
        "outputId": "dad5d449-cfd7-4f3c-e3c8-396d59768245"
      },
      "outputs": [
        {
          "output_type": "execute_result",
          "data": {
            "text/plain": [
              "((2, 436), 2)"
            ]
          },
          "metadata": {},
          "execution_count": 49
        }
      ],
      "source": [
        "data.shape, num_features"
      ]
    },
    {
      "cell_type": "code",
      "execution_count": 50,
      "id": "91b0eb37",
      "metadata": {
        "id": "91b0eb37",
        "colab": {
          "base_uri": "https://localhost:8080/"
        },
        "outputId": "3aad5b0e-209c-4dad-cf6b-25061b089588"
      },
      "outputs": [
        {
          "output_type": "stream",
          "name": "stdout",
          "text": [
            "0.772342081932618   [[0.00780378 0.00837476]] (1, 2)\n"
          ]
        }
      ],
      "source": [
        "b, theta=initialize(num_features)\n",
        "print(b, \" \", theta, theta.shape)"
      ]
    },
    {
      "cell_type": "markdown",
      "source": [
        "## Implementation"
      ],
      "metadata": {
        "id": "xiByihi34GXu"
      },
      "id": "xiByihi34GXu"
    },
    {
      "cell_type": "markdown",
      "source": [
        "### For q = 0.5, \n",
        "`learning_rate` = 0.1, \n",
        "`l` = $1.0 \\times 10^{-4}$"
      ],
      "metadata": {
        "id": "56bd1a9a"
      },
      "id": "56bd1a9a"
    },
    {
      "cell_type": "code",
      "execution_count": 51,
      "id": "49c1f4f5",
      "metadata": {
        "id": "49c1f4f5",
        "colab": {
          "base_uri": "https://localhost:8080/",
          "height": 300
        },
        "outputId": "1588f812-6712-4e35-c7fc-672b9fb054c5"
      },
      "outputs": [
        {
          "output_type": "stream",
          "name": "stdout",
          "text": [
            "training error = 1.428\n"
          ]
        },
        {
          "output_type": "execute_result",
          "data": {
            "text/plain": [
              "[<matplotlib.lines.Line2D at 0x7fd606c5e690>]"
            ]
          },
          "metadata": {},
          "execution_count": 51
        },
        {
          "output_type": "display_data",
          "data": {
            "text/plain": [
              "<Figure size 432x288 with 1 Axes>"
            ],
            "image/png": "[encoded data removed]"
          },
          "metadata": {
            "needs_background": "light"
          }
        }
      ],
      "source": [
        "costs = r1_gradient_descent(300,data,y_train.to_numpy().reshape(1,-1),theta,b,0.1,0.5,1.0e-4)\n",
        "print(f'training error = {costs[-1]:0.3f}')\n",
        "plt.plot(costs)"
      ]
    },
    {
      "cell_type": "code",
      "execution_count": 52,
      "id": "9bfecac8",
      "metadata": {
        "id": "9bfecac8",
        "colab": {
          "base_uri": "https://localhost:8080/"
        },
        "outputId": "855736ec-21fe-4c0f-fa18-03c263c1740a"
      },
      "outputs": [
        {
          "output_type": "stream",
          "name": "stdout",
          "text": [
            "Test error = 8.739\n"
          ]
        }
      ],
      "source": [
        "test_error = testing(test_data,y_test.to_numpy().reshape(1,-1),theta,b,0.1,0.5,1.0e-4)\n",
        "print(f'Test error = {test_error:.3f}')"
      ]
    },
    {
      "cell_type": "markdown",
      "source": [
        "### For q = 1, \n",
        "`learning_rate` = 0.1, \n",
        "`l` = $1.0 \\times 10^{-4}$"
      ],
      "metadata": {
        "id": "a4bfbb2c"
      },
      "id": "a4bfbb2c"
    },
    {
      "cell_type": "code",
      "execution_count": 53,
      "id": "7cfc7e1c",
      "metadata": {
        "colab": {
          "base_uri": "https://localhost:8080/",
          "height": 300
        },
        "id": "7cfc7e1c",
        "outputId": "9a1b5b71-cd55-4487-d02f-2aa1d4315cab"
      },
      "outputs": [
        {
          "output_type": "stream",
          "name": "stdout",
          "text": [
            "training error = 1.428\n"
          ]
        },
        {
          "output_type": "execute_result",
          "data": {
            "text/plain": [
              "[<matplotlib.lines.Line2D at 0x7fd606bcf810>]"
            ]
          },
          "metadata": {},
          "execution_count": 53
        },
        {
          "output_type": "display_data",
          "data": {
            "text/plain": [
              "<Figure size 432x288 with 1 Axes>"
            ],
            "image/png": "[encoded data removed]"
          },
          "metadata": {
            "needs_background": "light"
          }
        }
      ],
      "source": [
        "costs = r1_gradient_descent(300,data,y_train.to_numpy().reshape(1,-1),theta,b,0.1,1,1.0e-4)\n",
        "print(f'training error = {costs[-1]:0.3f}')\n",
        "plt.plot(costs)"
      ]
    },
    {
      "cell_type": "code",
      "execution_count": 54,
      "id": "ec0c6984",
      "metadata": {
        "id": "ec0c6984",
        "colab": {
          "base_uri": "https://localhost:8080/"
        },
        "outputId": "767dc63a-fa81-4b66-c15d-46e873fcd9dd"
      },
      "outputs": [
        {
          "output_type": "stream",
          "name": "stdout",
          "text": [
            "Test error = 8.739\n"
          ]
        }
      ],
      "source": [
        "test_error = testing(test_data,y_test.to_numpy().reshape(1,-1),theta,b,0.1,1,1.0e-4)\n",
        "print(f'Test error = {test_error:.3f}')"
      ]
    },
    {
      "cell_type": "markdown",
      "source": [
        "### For q = 2, \n",
        "`learning_rate` = 0.1, \n",
        "`l` = $1.0 \\times 10^{-4}$"
      ],
      "metadata": {
        "id": "da45a9c4"
      },
      "id": "da45a9c4"
    },
    {
      "cell_type": "code",
      "execution_count": 55,
      "id": "c86f2c61",
      "metadata": {
        "id": "c86f2c61",
        "colab": {
          "base_uri": "https://localhost:8080/",
          "height": 300
        },
        "outputId": "945dca4f-7d4b-4230-e0a1-f23a411dfe94"
      },
      "outputs": [
        {
          "output_type": "stream",
          "name": "stdout",
          "text": [
            "training error = 1.428\n"
          ]
        },
        {
          "output_type": "execute_result",
          "data": {
            "text/plain": [
              "[<matplotlib.lines.Line2D at 0x7fd606b4da10>]"
            ]
          },
          "metadata": {},
          "execution_count": 55
        },
        {
          "output_type": "display_data",
          "data": {
            "text/plain": [
              "<Figure size 432x288 with 1 Axes>"
            ],
            "image/png": "[encoded data removed]"
          },
          "metadata": {
            "needs_background": "light"
          }
        }
      ],
      "source": [
        "costs = r_gradient_descent(300,data,y_train.to_numpy().reshape(1,-1),theta,b,0.1,2,1.0e-4)\n",
        "print(f'training error = {costs[-1]:0.3f}')\n",
        "plt.plot(costs)"
      ]
    },
    {
      "cell_type": "code",
      "execution_count": 56,
      "id": "2d5077f4",
      "metadata": {
        "id": "2d5077f4",
        "colab": {
          "base_uri": "https://localhost:8080/"
        },
        "outputId": "5a202cc5-bbae-4195-d59f-8072eb287f97"
      },
      "outputs": [
        {
          "output_type": "stream",
          "name": "stdout",
          "text": [
            "Test error = 8.739\n"
          ]
        }
      ],
      "source": [
        "test_error = testing(test_data,y_test.to_numpy().reshape(1,-1),theta,b,0.1,2,1.0e-4)\n",
        "print(f'Test error = {test_error:.3f}')"
      ]
    },
    {
      "cell_type": "markdown",
      "source": [
        "### For q = 4, \n",
        "`learning_rate` = 0.1, \n",
        "`l` = $1.0 \\times 10^{-4}$"
      ],
      "metadata": {
        "id": "f5c9c08c"
      },
      "id": "f5c9c08c"
    },
    {
      "cell_type": "code",
      "execution_count": 57,
      "id": "7caca0cd",
      "metadata": {
        "id": "7caca0cd",
        "colab": {
          "base_uri": "https://localhost:8080/",
          "height": 300
        },
        "outputId": "b1d259b9-f79e-41d1-909b-978a5f719004"
      },
      "outputs": [
        {
          "output_type": "stream",
          "name": "stdout",
          "text": [
            "training error = 1.428\n"
          ]
        },
        {
          "output_type": "execute_result",
          "data": {
            "text/plain": [
              "[<matplotlib.lines.Line2D at 0x7fd606ac39d0>]"
            ]
          },
          "metadata": {},
          "execution_count": 57
        },
        {
          "output_type": "display_data",
          "data": {
            "text/plain": [
              "<Figure size 432x288 with 1 Axes>"
            ],
            "image/png": "[encoded data removed]"
          },
          "metadata": {
            "needs_background": "light"
          }
        }
      ],
      "source": [
        "costs = r_gradient_descent(300,data,y_train.to_numpy().reshape(1,-1),theta,b,0.1,4,1.0e-4)\n",
        "print(f'training error = {costs[-1]:0.3f}')\n",
        "plt.plot(costs)"
      ]
    },
    {
      "cell_type": "code",
      "execution_count": 58,
      "id": "92624c48",
      "metadata": {
        "id": "92624c48",
        "colab": {
          "base_uri": "https://localhost:8080/"
        },
        "outputId": "d0831e5c-a9ba-4dc3-809b-51f46f1c3457"
      },
      "outputs": [
        {
          "output_type": "stream",
          "name": "stdout",
          "text": [
            "Test error = 8.739\n"
          ]
        }
      ],
      "source": [
        "test_error = testing(test_data,y_test.to_numpy().reshape(1,-1),theta,b,0.1,4,1.0e-4)\n",
        "print(f'Test error = {test_error:.3f}')"
      ]
    }
  ],
  "metadata": {
    "kernelspec": {
      "display_name": "Python 3",
      "language": "python",
      "name": "python3"
    },
    "language_info": {
      "codemirror_mode": {
        "name": "ipython",
        "version": 3
      },
      "file_extension": ".py",
      "mimetype": "text/x-python",
      "name": "python",
      "nbconvert_exporter": "python",
      "pygments_lexer": "ipython3",
      "version": "3.8.8"
    },
    "colab": {
      "provenance": [],
      "collapsed_sections": [],
      "include_colab_link": true
    }
  },
  "nbformat": 4,
  "nbformat_minor": 5
}